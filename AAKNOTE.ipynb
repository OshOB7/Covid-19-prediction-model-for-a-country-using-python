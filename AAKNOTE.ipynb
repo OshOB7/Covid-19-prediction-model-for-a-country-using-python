{
 "cells": [
  {
   "cell_type": "code",
   "execution_count": 10,
   "metadata": {},
   "outputs": [],
   "source": [
    "# importing required libraries\n",
    "import pandas as pd\n",
    "import numpy as np\n",
    "from datetime import datetime, timedelta\n",
    "import matplotlib.pyplot as plt\n",
    "from matplotlib.dates import DateFormatter\n",
    "import matplotlib.dates as mdates\n",
    "import seaborn as sns\n",
    "# Disable warnings\n",
    "import warnings\n",
    "warnings.filterwarnings('ignore')"
   ]
  },
  {
   "cell_type": "code",
   "execution_count": 31,
   "metadata": {
    "scrolled": false
   },
   "outputs": [
    {
     "name": "stdout",
     "output_type": "stream",
     "text": [
      "Requirement already satisfied: numpy in c:\\users\\pb\\anaconda3\\lib\\site-packages (1.16.5)\n",
      "Requirement already satisfied: pandas in c:\\users\\pb\\anaconda3\\lib\\site-packages (0.25.1)\n",
      "Requirement already satisfied: sklearn in c:\\users\\pb\\anaconda3\\lib\\site-packages (0.0)\n",
      "Requirement already satisfied: pytz>=2017.2 in c:\\users\\pb\\anaconda3\\lib\\site-packages (from pandas) (2019.3)\n",
      "Requirement already satisfied: python-dateutil>=2.6.1 in c:\\users\\pb\\anaconda3\\lib\\site-packages (from pandas) (2.8.0)\n",
      "Requirement already satisfied: scikit-learn in c:\\users\\pb\\anaconda3\\lib\\site-packages (from sklearn) (0.21.3)\n",
      "Requirement already satisfied: six>=1.5 in c:\\users\\pb\\anaconda3\\lib\\site-packages (from python-dateutil>=2.6.1->pandas) (1.12.0)\n",
      "Requirement already satisfied: joblib>=0.11 in c:\\users\\pb\\anaconda3\\lib\\site-packages (from scikit-learn->sklearn) (0.13.2)\n",
      "Requirement already satisfied: scipy>=0.17.0 in c:\\users\\pb\\anaconda3\\lib\\site-packages (from scikit-learn->sklearn) (1.3.1)\n",
      "Note: you may need to restart the kernel to use updated packages.\n"
     ]
    }
   ],
   "source": [
    "pip install numpy pandas sklearn \n"
   ]
  },
  {
   "cell_type": "code",
   "execution_count": 32,
   "metadata": {},
   "outputs": [],
   "source": [
    "from sklearn.preprocessing import PolynomialFeatures"
   ]
  },
  {
   "cell_type": "code",
   "execution_count": 25,
   "metadata": {},
   "outputs": [
    {
     "data": {
      "text/html": [
       "<div>\n",
       "<style scoped>\n",
       "    .dataframe tbody tr th:only-of-type {\n",
       "        vertical-align: middle;\n",
       "    }\n",
       "\n",
       "    .dataframe tbody tr th {\n",
       "        vertical-align: top;\n",
       "    }\n",
       "\n",
       "    .dataframe thead th {\n",
       "        text-align: right;\n",
       "    }\n",
       "</style>\n",
       "<table border=\"1\" class=\"dataframe\">\n",
       "  <thead>\n",
       "    <tr style=\"text-align: right;\">\n",
       "      <th></th>\n",
       "      <th>countyFIPS</th>\n",
       "      <th>stateFIPS</th>\n",
       "      <th>date</th>\n",
       "      <th>confirmed_cases</th>\n",
       "      <th>deaths</th>\n",
       "      <th>google_mobility_retail_and_recreation</th>\n",
       "      <th>google_mobility_grocery_and_pharmacy</th>\n",
       "      <th>google_mobility_parks</th>\n",
       "      <th>google_mobility_transit_stations</th>\n",
       "      <th>google_mobility_workplaces</th>\n",
       "      <th>...</th>\n",
       "      <th>total_adult_patients_hospitalized_confirmed_covid_SD</th>\n",
       "      <th>total_pediatric_patients_hospitalized_confirmed_and_suspected_covid_SD</th>\n",
       "      <th>total_pediatric_patients_hospitalized_confirmed_covid_SD</th>\n",
       "      <th>inpatient_beds_utilization_SD</th>\n",
       "      <th>inpatient_beds_utilization_numerator_SD</th>\n",
       "      <th>inpatient_beds_utilization_denominator_SD</th>\n",
       "      <th>percent_of_inpatients_with_covid_SD</th>\n",
       "      <th>inpatient_bed_covid_utilization_SD</th>\n",
       "      <th>adult_icu_bed_covid_utilization_SD</th>\n",
       "      <th>adult_icu_bed_utilization_SD</th>\n",
       "    </tr>\n",
       "  </thead>\n",
       "  <tbody>\n",
       "    <tr>\n",
       "      <td>0</td>\n",
       "      <td>1001</td>\n",
       "      <td>1</td>\n",
       "      <td>2020-01-22</td>\n",
       "      <td>0</td>\n",
       "      <td>0</td>\n",
       "      <td>NaN</td>\n",
       "      <td>NaN</td>\n",
       "      <td>NaN</td>\n",
       "      <td>NaN</td>\n",
       "      <td>NaN</td>\n",
       "      <td>...</td>\n",
       "      <td>0.0</td>\n",
       "      <td>0.0</td>\n",
       "      <td>0.0</td>\n",
       "      <td>0.0</td>\n",
       "      <td>0.0</td>\n",
       "      <td>0.0</td>\n",
       "      <td>0.0</td>\n",
       "      <td>0.0</td>\n",
       "      <td>0.0</td>\n",
       "      <td>0.0</td>\n",
       "    </tr>\n",
       "    <tr>\n",
       "      <td>1</td>\n",
       "      <td>1003</td>\n",
       "      <td>1</td>\n",
       "      <td>2020-01-22</td>\n",
       "      <td>0</td>\n",
       "      <td>0</td>\n",
       "      <td>NaN</td>\n",
       "      <td>NaN</td>\n",
       "      <td>NaN</td>\n",
       "      <td>NaN</td>\n",
       "      <td>NaN</td>\n",
       "      <td>...</td>\n",
       "      <td>0.0</td>\n",
       "      <td>0.0</td>\n",
       "      <td>0.0</td>\n",
       "      <td>0.0</td>\n",
       "      <td>0.0</td>\n",
       "      <td>0.0</td>\n",
       "      <td>0.0</td>\n",
       "      <td>0.0</td>\n",
       "      <td>0.0</td>\n",
       "      <td>0.0</td>\n",
       "    </tr>\n",
       "    <tr>\n",
       "      <td>2</td>\n",
       "      <td>1005</td>\n",
       "      <td>1</td>\n",
       "      <td>2020-01-22</td>\n",
       "      <td>0</td>\n",
       "      <td>0</td>\n",
       "      <td>NaN</td>\n",
       "      <td>NaN</td>\n",
       "      <td>NaN</td>\n",
       "      <td>NaN</td>\n",
       "      <td>NaN</td>\n",
       "      <td>...</td>\n",
       "      <td>0.0</td>\n",
       "      <td>0.0</td>\n",
       "      <td>0.0</td>\n",
       "      <td>0.0</td>\n",
       "      <td>0.0</td>\n",
       "      <td>0.0</td>\n",
       "      <td>0.0</td>\n",
       "      <td>0.0</td>\n",
       "      <td>0.0</td>\n",
       "      <td>0.0</td>\n",
       "    </tr>\n",
       "    <tr>\n",
       "      <td>3</td>\n",
       "      <td>1007</td>\n",
       "      <td>1</td>\n",
       "      <td>2020-01-22</td>\n",
       "      <td>0</td>\n",
       "      <td>0</td>\n",
       "      <td>NaN</td>\n",
       "      <td>NaN</td>\n",
       "      <td>NaN</td>\n",
       "      <td>NaN</td>\n",
       "      <td>NaN</td>\n",
       "      <td>...</td>\n",
       "      <td>0.0</td>\n",
       "      <td>0.0</td>\n",
       "      <td>0.0</td>\n",
       "      <td>0.0</td>\n",
       "      <td>0.0</td>\n",
       "      <td>0.0</td>\n",
       "      <td>0.0</td>\n",
       "      <td>0.0</td>\n",
       "      <td>0.0</td>\n",
       "      <td>0.0</td>\n",
       "    </tr>\n",
       "    <tr>\n",
       "      <td>4</td>\n",
       "      <td>1009</td>\n",
       "      <td>1</td>\n",
       "      <td>2020-01-22</td>\n",
       "      <td>0</td>\n",
       "      <td>0</td>\n",
       "      <td>NaN</td>\n",
       "      <td>NaN</td>\n",
       "      <td>NaN</td>\n",
       "      <td>NaN</td>\n",
       "      <td>NaN</td>\n",
       "      <td>...</td>\n",
       "      <td>0.0</td>\n",
       "      <td>0.0</td>\n",
       "      <td>0.0</td>\n",
       "      <td>0.0</td>\n",
       "      <td>0.0</td>\n",
       "      <td>0.0</td>\n",
       "      <td>0.0</td>\n",
       "      <td>0.0</td>\n",
       "      <td>0.0</td>\n",
       "      <td>0.0</td>\n",
       "    </tr>\n",
       "  </tbody>\n",
       "</table>\n",
       "<p>5 rows × 82 columns</p>\n",
       "</div>"
      ],
      "text/plain": [
       "   countyFIPS  stateFIPS        date  confirmed_cases  deaths  \\\n",
       "0        1001          1  2020-01-22                0       0   \n",
       "1        1003          1  2020-01-22                0       0   \n",
       "2        1005          1  2020-01-22                0       0   \n",
       "3        1007          1  2020-01-22                0       0   \n",
       "4        1009          1  2020-01-22                0       0   \n",
       "\n",
       "   google_mobility_retail_and_recreation  \\\n",
       "0                                    NaN   \n",
       "1                                    NaN   \n",
       "2                                    NaN   \n",
       "3                                    NaN   \n",
       "4                                    NaN   \n",
       "\n",
       "   google_mobility_grocery_and_pharmacy  google_mobility_parks  \\\n",
       "0                                   NaN                    NaN   \n",
       "1                                   NaN                    NaN   \n",
       "2                                   NaN                    NaN   \n",
       "3                                   NaN                    NaN   \n",
       "4                                   NaN                    NaN   \n",
       "\n",
       "   google_mobility_transit_stations  google_mobility_workplaces  ...  \\\n",
       "0                               NaN                         NaN  ...   \n",
       "1                               NaN                         NaN  ...   \n",
       "2                               NaN                         NaN  ...   \n",
       "3                               NaN                         NaN  ...   \n",
       "4                               NaN                         NaN  ...   \n",
       "\n",
       "   total_adult_patients_hospitalized_confirmed_covid_SD  \\\n",
       "0                                                0.0      \n",
       "1                                                0.0      \n",
       "2                                                0.0      \n",
       "3                                                0.0      \n",
       "4                                                0.0      \n",
       "\n",
       "   total_pediatric_patients_hospitalized_confirmed_and_suspected_covid_SD  \\\n",
       "0                                                0.0                        \n",
       "1                                                0.0                        \n",
       "2                                                0.0                        \n",
       "3                                                0.0                        \n",
       "4                                                0.0                        \n",
       "\n",
       "   total_pediatric_patients_hospitalized_confirmed_covid_SD  \\\n",
       "0                                                0.0          \n",
       "1                                                0.0          \n",
       "2                                                0.0          \n",
       "3                                                0.0          \n",
       "4                                                0.0          \n",
       "\n",
       "   inpatient_beds_utilization_SD  inpatient_beds_utilization_numerator_SD  \\\n",
       "0                            0.0                                      0.0   \n",
       "1                            0.0                                      0.0   \n",
       "2                            0.0                                      0.0   \n",
       "3                            0.0                                      0.0   \n",
       "4                            0.0                                      0.0   \n",
       "\n",
       "   inpatient_beds_utilization_denominator_SD  \\\n",
       "0                                        0.0   \n",
       "1                                        0.0   \n",
       "2                                        0.0   \n",
       "3                                        0.0   \n",
       "4                                        0.0   \n",
       "\n",
       "   percent_of_inpatients_with_covid_SD  inpatient_bed_covid_utilization_SD  \\\n",
       "0                                  0.0                                 0.0   \n",
       "1                                  0.0                                 0.0   \n",
       "2                                  0.0                                 0.0   \n",
       "3                                  0.0                                 0.0   \n",
       "4                                  0.0                                 0.0   \n",
       "\n",
       "   adult_icu_bed_covid_utilization_SD  adult_icu_bed_utilization_SD  \n",
       "0                                 0.0                           0.0  \n",
       "1                                 0.0                           0.0  \n",
       "2                                 0.0                           0.0  \n",
       "3                                 0.0                           0.0  \n",
       "4                                 0.0                           0.0  \n",
       "\n",
       "[5 rows x 82 columns]"
      ]
     },
     "execution_count": 25,
     "metadata": {},
     "output_type": "execute_result"
    }
   ],
   "source": [
    "#Read the data\n",
    "df=pd.read_csv('C:\\\\Users\\PB\\Desktop\\EXL EQ\\\\EQ_2021_Data_Sample.csv')\n",
    "\n",
    "#Get shape and head\n",
    "df.shape\n",
    "df.head()"
   ]
  },
  {
   "cell_type": "code",
   "execution_count": 26,
   "metadata": {},
   "outputs": [
    {
     "data": {
      "text/plain": [
       "(1179375, 82)"
      ]
     },
     "execution_count": 26,
     "metadata": {},
     "output_type": "execute_result"
    }
   ],
   "source": [
    "df.shape"
   ]
  },
  {
   "cell_type": "code",
   "execution_count": 27,
   "metadata": {},
   "outputs": [
    {
     "name": "stdout",
     "output_type": "stream",
     "text": [
      "Index(['countyFIPS', 'stateFIPS', 'date', 'confirmed_cases', 'deaths',\n",
      "       'google_mobility_retail_and_recreation',\n",
      "       'google_mobility_grocery_and_pharmacy', 'google_mobility_parks',\n",
      "       'google_mobility_transit_stations', 'google_mobility_workplaces',\n",
      "       'google_mobility_residential', 'apple_mobility_driving',\n",
      "       'apple_mobility_transit', 'apple_mobility_walking',\n",
      "       'Electricity_Sales_ Revenue_Residential ($ x1000)',\n",
      "       'Electricity_Sales_ Sales_Residential (MWHr)',\n",
      "       'Electricity_Sales_ Customers_Count_Residential',\n",
      "       'Electricity_Sales_ Revenue_Commercial ($ x1000)',\n",
      "       'Electricity_Sales_ Sales_Commercial (MWHr)',\n",
      "       'Electricity_Sales_ Customers_Count_Commercial',\n",
      "       'Electricity_Sales_ Revenue_Industrial ($ x1000)',\n",
      "       'Electricity_Sales_ Sales_Industrial (MWHr)',\n",
      "       'Electricity_Sales_ Customers_Count_Industrial',\n",
      "       'Electricity_Sales_ Revenue_Transportation ($ x1000)',\n",
      "       'Electricity_Sales_ Sales_Transportation (MWHr)',\n",
      "       'Electricity_Sales_ Customers_Count_Transportation',\n",
      "       'DOMESTIC_Air_Passengers', 'INTERNATIONAL_Air_Passengers',\n",
      "       'DOMESTIC_Flights_Cnt', 'INTERNATIONAL_Flights_Cnt',\n",
      "       'YoY_Reopened_Seated_Diner_Data', 'test_count', 'test_rate',\n",
      "       'new_test_rate', 'new_test_count', 'C_PCTPOVALL_2019',\n",
      "       'C_PCTPOV017_2019', 'C_PCTPOV517_2019', 'C_MEDHHINC_2019', 'C_TOT_POP',\n",
      "       'C_TOT_MALE', 'C_TOT_FEMALE', 'C_WA_MALE', 'C_WA_FEMALE',\n",
      "       'C_MinorityPCT', 'C_BlackPCT', 'C_HispanicPCT', 'C_M_Labour_Force_corr',\n",
      "       'C_M_Employed_corr', 'C_M_Unemployment_Rate_corr', 'S_D_dly_new_test',\n",
      "       'S_D_cummulative_test', 'initclaims_count_regular_cw',\n",
      "       'initclaims_rate_regular_cw', 'spend_all_cd', 'merchants_all_cd',\n",
      "       'revenue_all_cd', 'critical_staffing_shortage_today_yes_SD',\n",
      "       'critical_staffing_shortage_anticipated_within_week_yes_SD',\n",
      "       'hospital_onset_covid_SD', 'hospital_onset_covid_coverage_SD',\n",
      "       'inpatient_beds_SD', 'inpatient_beds_coverage_SD',\n",
      "       'previous_day_admission_adult_covid_confirmed_SD',\n",
      "       'previous_day_admission_adult_covid_suspected_SD',\n",
      "       'previous_day_admission_pediatric_covid_confirmed_SD',\n",
      "       'previous_day_admission_pediatric_covid_suspected_SD',\n",
      "       'staffed_adult_icu_bed_occupancy_SD',\n",
      "       'staffed_adult_icu_bed_occupancy_coverage_SD',\n",
      "       'staffed_icu_adult_patients_confirmed_and_suspected_covid_SD',\n",
      "       'staffed_icu_adult_patients_confirmed_covid_SD',\n",
      "       'total_adult_patients_hospitalized_confirmed_and_suspected_covid_SD',\n",
      "       'total_adult_patients_hospitalized_confirmed_covid_SD',\n",
      "       'total_pediatric_patients_hospitalized_confirmed_and_suspected_covid_SD',\n",
      "       'total_pediatric_patients_hospitalized_confirmed_covid_SD',\n",
      "       'inpatient_beds_utilization_SD',\n",
      "       'inpatient_beds_utilization_numerator_SD',\n",
      "       'inpatient_beds_utilization_denominator_SD',\n",
      "       'percent_of_inpatients_with_covid_SD',\n",
      "       'inpatient_bed_covid_utilization_SD',\n",
      "       'adult_icu_bed_covid_utilization_SD', 'adult_icu_bed_utilization_SD'],\n",
      "      dtype='object')\n"
     ]
    }
   ],
   "source": [
    "print (df.columns)"
   ]
  },
  {
   "cell_type": "code",
   "execution_count": 29,
   "metadata": {},
   "outputs": [],
   "source": [
    "dates = df['date']\n",
    "date_format = [pd.to_datetime(d) for d in dates]"
   ]
  },
  {
   "cell_type": "code",
   "execution_count": 39,
   "metadata": {},
   "outputs": [],
   "source": [
    "data=df[['countyFIPS', 'stateFIPS', 'date', 'confirmed_cases','C_TOT_POP','new_test_rate', 'new_test_count']]"
   ]
  },
  {
   "cell_type": "code",
   "execution_count": 40,
   "metadata": {},
   "outputs": [
    {
     "name": "stdout",
     "output_type": "stream",
     "text": [
      "____________________\n",
      "HEAD\n",
      "____________________\n",
      "   countyFIPS  stateFIPS        date  confirmed_cases  C_TOT_POP  \\\n",
      "0        1001          1  2020-01-22                0    55514.0   \n",
      "1        1003          1  2020-01-22                0   190790.0   \n",
      "2        1005          1  2020-01-22                0    27201.0   \n",
      "3        1007          1  2020-01-22                0    22597.0   \n",
      "4        1009          1  2020-01-22                0    57826.0   \n",
      "\n",
      "  new_test_rate new_test_count  \n",
      "0             .              .  \n",
      "1             .              .  \n",
      "2             .              .  \n",
      "3             .              .  \n",
      "4             .              .  \n"
     ]
    }
   ],
   "source": [
    "print('_'*20);print('HEAD');print('_'*20)\n",
    "print(data.head())"
   ]
  },
  {
   "cell_type": "code",
   "execution_count": 44,
   "metadata": {},
   "outputs": [
    {
     "name": "stdout",
     "output_type": "stream",
     "text": [
      "____________________\n",
      "PREPARE DATA\n",
      "____________________\n"
     ]
    },
    {
     "data": {
      "image/png": "[encoded data removed]",
      "text/plain": [
       "<Figure size 432x288 with 1 Axes>"
      ]
     },
     "metadata": {
      "needs_background": "light"
     },
     "output_type": "display_data"
    },
    {
     "name": "stdout",
     "output_type": "stream",
     "text": [
      "[[1.00000000e+00 1.00100000e+03 1.00200100e+06]\n",
      " [1.00000000e+00 1.00300000e+03 1.00600900e+06]\n",
      " [1.00000000e+00 1.00500000e+03 1.01002500e+06]\n",
      " ...\n",
      " [1.00000000e+00 5.60410000e+04 3.14059368e+09]\n",
      " [1.00000000e+00 5.60430000e+04 3.14081785e+09]\n",
      " [1.00000000e+00 5.60450000e+04 3.14104202e+09]]\n"
     ]
    }
   ],
   "source": [
    "print('_'*20);print('PREPARE DATA');print('_'*20)\n",
    "x=np.array(data['countyFIPS']).reshape(-1,1)\n",
    "y=np.array(data['confirmed_cases']).reshape(-1,1)\n",
    "plt.plot(y,'-m')\n",
    "plt.show()\n",
    "polyFeat= PolynomialFeatures(degree=2)\n",
    "x=polyFeat.fit_transform(x)\n",
    "print(x)"
   ]
  },
  {
   "cell_type": "code",
   "execution_count": null,
   "metadata": {},
   "outputs": [],
   "source": []
  }
 ],
 "metadata": {
  "kernelspec": {
   "display_name": "Python 3",
   "language": "python",
   "name": "python3"
  },
  "language_info": {
   "codemirror_mode": {
    "name": "ipython",
    "version": 3
   },
   "file_extension": ".py",
   "mimetype": "text/x-python",
   "name": "python",
   "nbconvert_exporter": "python",
   "pygments_lexer": "ipython3",
   "version": "3.7.4"
  }
 },
 "nbformat": 4,
 "nbformat_minor": 2
}
